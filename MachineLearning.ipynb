{
 "cells": [
  {
   "cell_type": "markdown",
   "metadata": {
    "collapsed": true
   },
   "source": [
    "# Machine Learning\n",
    "\n",
    "* Load Data, \n",
    "* Organize, \n",
    "* Test-Train-Split, \n",
    "* Linear Regression\n",
    "* Add Sentiment Analysis\n",
    "* Analysis of Results\n",
    "* Conclusions"
   ]
  },
  {
   "cell_type": "code",
   "execution_count": 226,
   "metadata": {
    "collapsed": true
   },
   "outputs": [],
   "source": [
    "import pandas as pd\n",
    "import numpy as np\n",
    "\n",
    "import io, json\n",
    "from IPython.display import display\n",
    "\n",
    "%matplotlib inline\n",
    "from matplotlib import pyplot as plt\n",
    "import seaborn as sns\n",
    "\n",
    "from sklearn.cross_validation import train_test_split\n",
    "from sklearn.linear_model import LinearRegression\n",
    "from sklearn.metrics import r2_score\n",
    "\n",
    "from textblob import TextBlob as tb\n",
    "from ipywidgets import interact, fixed"
   ]
  },
  {
   "cell_type": "markdown",
   "metadata": {},
   "source": [
    "# Load in Data from JSON"
   ]
  },
  {
   "cell_type": "code",
   "execution_count": 227,
   "metadata": {
    "collapsed": false
   },
   "outputs": [],
   "source": [
    "#This code can takes a half minute to run.\n",
    "def load_data(path):\n",
    "    \n",
    "    '''\n",
    "        Pulls up pd.DataFrames saved in the json file specified by the path. \n",
    "        \n",
    "        Args: \n",
    "            path (str): address of json file.\n",
    "        Returns: \n",
    "            professors (pd.DataFrame)\n",
    "            professor_stats (pd.DataFrame)\n",
    "            professor_stats_by_grade_list (list of pd.DataFrame objects)\n",
    "            reviews_by_grade (pd.DataFrame)\n",
    "    \n",
    "    \n",
    "    '''\n",
    "    jsons = open(path, 'r')\n",
    "    data = json.load(jsons)\n",
    "    \n",
    "    professors, professor_stats, stats_by_grade_list, reviews_by_grade = data\n",
    "    \n",
    "    professors = pd.read_json(professors, orient='index') #don't drop index\n",
    "    professor_stats = pd.read_json(professor_stats, orient='index')# drop index\n",
    "    \n",
    "    professor_stats_by_grade_list = []\n",
    "    \n",
    "    for p in stats_by_grade_list: \n",
    "        professor_stats_by_grade_list.append(pd.read_json(p, orient='index'))\n",
    "\n",
    "    reviews_by_grade = pd.read_json(data[3], orient='index').reset_index(drop=True)\n",
    "    \n",
    "    return professors, professor_stats, professor_stats_by_grade_list, reviews_by_grade"
   ]
  },
  {
   "cell_type": "code",
   "execution_count": 228,
   "metadata": {
    "collapsed": true
   },
   "outputs": [],
   "source": [
    "path = '/data/primitiveDataType/data.json'\n",
    "professors, p_stats, reviews_by_grade_list, reviews_by_grade = load_data(path)"
   ]
  },
  {
   "cell_type": "code",
   "execution_count": 229,
   "metadata": {
    "collapsed": true
   },
   "outputs": [],
   "source": [
    "assert isinstance(professors, pd.DataFrame)\n",
    "assert isinstance(p_stats, pd.DataFrame)\n",
    "assert isinstance(reviews_by_grade_list, list)\n",
    "assert isinstance(reviews_by_grade, pd.DataFrame)"
   ]
  },
  {
   "cell_type": "markdown",
   "metadata": {},
   "source": [
    "## Here are the Loaded DataFrames"
   ]
  },
  {
   "cell_type": "code",
   "execution_count": 230,
   "metadata": {
    "collapsed": false
   },
   "outputs": [
    {
     "data": {
      "text/html": [
       "<div>\n",
       "<table border=\"1\" class=\"dataframe\">\n",
       "  <thead>\n",
       "    <tr style=\"text-align: right;\">\n",
       "      <th></th>\n",
       "      <th>Dept</th>\n",
       "      <th>Name</th>\n",
       "      <th>Reporting Evaluations</th>\n",
       "      <th>prof_id</th>\n",
       "    </tr>\n",
       "  </thead>\n",
       "  <tbody>\n",
       "    <tr>\n",
       "      <th>0</th>\n",
       "      <td>Chemistry and Biochemistry</td>\n",
       "      <td>Christina Abel</td>\n",
       "      <td>32</td>\n",
       "      <td>2073</td>\n",
       "    </tr>\n",
       "    <tr>\n",
       "      <th>1</th>\n",
       "      <td>Aerospace Engineering</td>\n",
       "      <td>Kira Aberbromby</td>\n",
       "      <td>6</td>\n",
       "      <td>2390</td>\n",
       "    </tr>\n",
       "    <tr>\n",
       "      <th>10</th>\n",
       "      <td>Electrical Engineering</td>\n",
       "      <td>Samuel Agbo</td>\n",
       "      <td>54</td>\n",
       "      <td>4</td>\n",
       "    </tr>\n",
       "  </tbody>\n",
       "</table>\n",
       "</div>"
      ],
      "text/plain": [
       "                          Dept             Name  Reporting Evaluations  \\\n",
       "0   Chemistry and Biochemistry   Christina Abel                     32   \n",
       "1        Aerospace Engineering  Kira Aberbromby                      6   \n",
       "10      Electrical Engineering      Samuel Agbo                     54   \n",
       "\n",
       "    prof_id  \n",
       "0      2073  \n",
       "1      2390  \n",
       "10        4  "
      ]
     },
     "metadata": {},
     "output_type": "display_data"
    },
    {
     "data": {
      "text/html": [
       "<div>\n",
       "<table border=\"1\" class=\"dataframe\">\n",
       "  <thead>\n",
       "    <tr style=\"text-align: right;\">\n",
       "      <th></th>\n",
       "      <th>mean</th>\n",
       "      <th>median</th>\n",
       "      <th>mode</th>\n",
       "      <th>prof_id</th>\n",
       "      <th>rating_type</th>\n",
       "      <th>std_dev</th>\n",
       "    </tr>\n",
       "  </thead>\n",
       "  <tbody>\n",
       "    <tr>\n",
       "      <th>0</th>\n",
       "      <td>3.563</td>\n",
       "      <td>4</td>\n",
       "      <td>4</td>\n",
       "      <td>2073</td>\n",
       "      <td>Overall Rating</td>\n",
       "      <td>0.556</td>\n",
       "    </tr>\n",
       "    <tr>\n",
       "      <th>1</th>\n",
       "      <td>3.594</td>\n",
       "      <td>4</td>\n",
       "      <td>4</td>\n",
       "      <td>2073</td>\n",
       "      <td>Presents Material Clearly</td>\n",
       "      <td>0.551</td>\n",
       "    </tr>\n",
       "    <tr>\n",
       "      <th>10</th>\n",
       "      <td>3.941</td>\n",
       "      <td>0</td>\n",
       "      <td>4</td>\n",
       "      <td>1</td>\n",
       "      <td>Presents Material Clearly</td>\n",
       "      <td>0.235</td>\n",
       "    </tr>\n",
       "  </tbody>\n",
       "</table>\n",
       "</div>"
      ],
      "text/plain": [
       "     mean  median  mode  prof_id                rating_type  std_dev\n",
       "0   3.563       4     4     2073             Overall Rating    0.556\n",
       "1   3.594       4     4     2073  Presents Material Clearly    0.551\n",
       "10  3.941       0     4        1  Presents Material Clearly    0.235"
      ]
     },
     "metadata": {},
     "output_type": "display_data"
    },
    {
     "data": {
      "text/html": [
       "<div>\n",
       "<table border=\"1\" class=\"dataframe\">\n",
       "  <thead>\n",
       "    <tr style=\"text-align: right;\">\n",
       "      <th></th>\n",
       "      <th>A</th>\n",
       "      <th>B</th>\n",
       "      <th>C</th>\n",
       "      <th>Credit</th>\n",
       "      <th>D</th>\n",
       "      <th>F</th>\n",
       "      <th>N/A</th>\n",
       "      <th>No Credit</th>\n",
       "      <th>prof_id</th>\n",
       "    </tr>\n",
       "  </thead>\n",
       "  <tbody>\n",
       "    <tr>\n",
       "      <th>Overall Rating</th>\n",
       "      <td>3.769</td>\n",
       "      <td>3.222</td>\n",
       "      <td>3.75</td>\n",
       "      <td>NaN</td>\n",
       "      <td>3</td>\n",
       "      <td>NaN</td>\n",
       "      <td>3</td>\n",
       "      <td>NaN</td>\n",
       "      <td>2073</td>\n",
       "    </tr>\n",
       "    <tr>\n",
       "      <th>Presents Material Clearly</th>\n",
       "      <td>3.769</td>\n",
       "      <td>3.222</td>\n",
       "      <td>3.75</td>\n",
       "      <td>NaN</td>\n",
       "      <td>3</td>\n",
       "      <td>NaN</td>\n",
       "      <td>4</td>\n",
       "      <td>NaN</td>\n",
       "      <td>2073</td>\n",
       "    </tr>\n",
       "    <tr>\n",
       "      <th>Recognizes Student Difficulties</th>\n",
       "      <td>3.692</td>\n",
       "      <td>3.222</td>\n",
       "      <td>3.75</td>\n",
       "      <td>NaN</td>\n",
       "      <td>4</td>\n",
       "      <td>NaN</td>\n",
       "      <td>3</td>\n",
       "      <td>NaN</td>\n",
       "      <td>2073</td>\n",
       "    </tr>\n",
       "    <tr>\n",
       "      <th>Reporting Evaluations</th>\n",
       "      <td>13.000</td>\n",
       "      <td>9.000</td>\n",
       "      <td>8.00</td>\n",
       "      <td>NaN</td>\n",
       "      <td>1</td>\n",
       "      <td>NaN</td>\n",
       "      <td>1</td>\n",
       "      <td>NaN</td>\n",
       "      <td>2073</td>\n",
       "    </tr>\n",
       "  </tbody>\n",
       "</table>\n",
       "</div>"
      ],
      "text/plain": [
       "                                      A      B     C  Credit  D   F  N/A  \\\n",
       "Overall Rating                    3.769  3.222  3.75     NaN  3 NaN    3   \n",
       "Presents Material Clearly         3.769  3.222  3.75     NaN  3 NaN    4   \n",
       "Recognizes Student Difficulties   3.692  3.222  3.75     NaN  4 NaN    3   \n",
       "Reporting Evaluations            13.000  9.000  8.00     NaN  1 NaN    1   \n",
       "\n",
       "                                 No Credit  prof_id  \n",
       "Overall Rating                         NaN     2073  \n",
       "Presents Material Clearly              NaN     2073  \n",
       "Recognizes Student Difficulties        NaN     2073  \n",
       "Reporting Evaluations                  NaN     2073  "
      ]
     },
     "metadata": {},
     "output_type": "display_data"
    },
    {
     "data": {
      "text/html": [
       "<div>\n",
       "<table border=\"1\" class=\"dataframe\">\n",
       "  <thead>\n",
       "    <tr style=\"text-align: right;\">\n",
       "      <th></th>\n",
       "      <th>A</th>\n",
       "      <th>B</th>\n",
       "      <th>C</th>\n",
       "      <th>Credit</th>\n",
       "      <th>D</th>\n",
       "      <th>F</th>\n",
       "      <th>N/A</th>\n",
       "      <th>No Credit</th>\n",
       "      <th>prof_id</th>\n",
       "    </tr>\n",
       "  </thead>\n",
       "  <tbody>\n",
       "    <tr>\n",
       "      <th>Overall Rating</th>\n",
       "      <td>4</td>\n",
       "      <td>4</td>\n",
       "      <td>NaN</td>\n",
       "      <td>NaN</td>\n",
       "      <td>4</td>\n",
       "      <td>NaN</td>\n",
       "      <td>1.5</td>\n",
       "      <td>NaN</td>\n",
       "      <td>2390</td>\n",
       "    </tr>\n",
       "    <tr>\n",
       "      <th>Presents Material Clearly</th>\n",
       "      <td>4</td>\n",
       "      <td>3</td>\n",
       "      <td>NaN</td>\n",
       "      <td>NaN</td>\n",
       "      <td>4</td>\n",
       "      <td>NaN</td>\n",
       "      <td>1.5</td>\n",
       "      <td>NaN</td>\n",
       "      <td>2390</td>\n",
       "    </tr>\n",
       "    <tr>\n",
       "      <th>Recognizes Student Difficulties</th>\n",
       "      <td>4</td>\n",
       "      <td>4</td>\n",
       "      <td>NaN</td>\n",
       "      <td>NaN</td>\n",
       "      <td>4</td>\n",
       "      <td>NaN</td>\n",
       "      <td>2.0</td>\n",
       "      <td>NaN</td>\n",
       "      <td>2390</td>\n",
       "    </tr>\n",
       "    <tr>\n",
       "      <th>Reporting Evaluations</th>\n",
       "      <td>2</td>\n",
       "      <td>1</td>\n",
       "      <td>NaN</td>\n",
       "      <td>NaN</td>\n",
       "      <td>1</td>\n",
       "      <td>NaN</td>\n",
       "      <td>2.0</td>\n",
       "      <td>NaN</td>\n",
       "      <td>2390</td>\n",
       "    </tr>\n",
       "  </tbody>\n",
       "</table>\n",
       "</div>"
      ],
      "text/plain": [
       "                                 A  B   C  Credit  D   F  N/A  No Credit  \\\n",
       "Overall Rating                   4  4 NaN     NaN  4 NaN  1.5        NaN   \n",
       "Presents Material Clearly        4  3 NaN     NaN  4 NaN  1.5        NaN   \n",
       "Recognizes Student Difficulties  4  4 NaN     NaN  4 NaN  2.0        NaN   \n",
       "Reporting Evaluations            2  1 NaN     NaN  1 NaN  2.0        NaN   \n",
       "\n",
       "                                 prof_id  \n",
       "Overall Rating                      2390  \n",
       "Presents Material Clearly           2390  \n",
       "Recognizes Student Difficulties     2390  \n",
       "Reporting Evaluations               2390  "
      ]
     },
     "metadata": {},
     "output_type": "display_data"
    }
   ],
   "source": [
    "display(professors.head(3))\n",
    "display(p_stats.head(3))\n",
    "display(reviews_by_grade_list[0])\n",
    "display(reviews_by_grade_list[1])"
   ]
  },
  {
   "cell_type": "markdown",
   "metadata": {},
   "source": [
    "## reviews_by_grade\n",
    "is a DataFrame showing the average ratings grades that students give professors in relation to which grade they earned in the class."
   ]
  },
  {
   "cell_type": "code",
   "execution_count": 231,
   "metadata": {
    "collapsed": false
   },
   "outputs": [
    {
     "data": {
      "text/html": [
       "<div>\n",
       "<table border=\"1\" class=\"dataframe\">\n",
       "  <thead>\n",
       "    <tr style=\"text-align: right;\">\n",
       "      <th></th>\n",
       "      <th>Course</th>\n",
       "      <th>Grade</th>\n",
       "      <th>Overall Rating</th>\n",
       "      <th>Presents Material Clearly</th>\n",
       "      <th>Recognizes Student Difficulties</th>\n",
       "      <th>Reporting Evaluations</th>\n",
       "      <th>Review</th>\n",
       "      <th>Year</th>\n",
       "      <th>prof_id</th>\n",
       "      <th>review_id</th>\n",
       "    </tr>\n",
       "  </thead>\n",
       "  <tbody>\n",
       "    <tr>\n",
       "      <th>0</th>\n",
       "      <td>CHEM 124</td>\n",
       "      <td>A</td>\n",
       "      <td>3.769</td>\n",
       "      <td>3.769</td>\n",
       "      <td>3.692</td>\n",
       "      <td>13</td>\n",
       "      <td>To do well in Abel's class, the key is practic...</td>\n",
       "      <td>Freshman</td>\n",
       "      <td>2073</td>\n",
       "      <td>34359</td>\n",
       "    </tr>\n",
       "    <tr>\n",
       "      <th>1</th>\n",
       "      <td>CHEM 127</td>\n",
       "      <td>A</td>\n",
       "      <td>3.769</td>\n",
       "      <td>3.769</td>\n",
       "      <td>3.692</td>\n",
       "      <td>13</td>\n",
       "      <td>Great professor! I learned a lot in her class....</td>\n",
       "      <td>Freshman</td>\n",
       "      <td>2073</td>\n",
       "      <td>34176</td>\n",
       "    </tr>\n",
       "  </tbody>\n",
       "</table>\n",
       "</div>"
      ],
      "text/plain": [
       "     Course Grade  Overall Rating  Presents Material Clearly  \\\n",
       "0  CHEM 124     A           3.769                      3.769   \n",
       "1  CHEM 127     A           3.769                      3.769   \n",
       "\n",
       "   Recognizes Student Difficulties  Reporting Evaluations  \\\n",
       "0                            3.692                     13   \n",
       "1                            3.692                     13   \n",
       "\n",
       "                                              Review      Year  prof_id  \\\n",
       "0  To do well in Abel's class, the key is practic...  Freshman     2073   \n",
       "1  Great professor! I learned a lot in her class....  Freshman     2073   \n",
       "\n",
       "   review_id  \n",
       "0      34359  \n",
       "1      34176  "
      ]
     },
     "metadata": {},
     "output_type": "display_data"
    }
   ],
   "source": [
    "display(reviews_by_grade.head(2))"
   ]
  },
  {
   "cell_type": "markdown",
   "metadata": {},
   "source": [
    "# Prepare for Machine Learning\n",
    "\n",
    "## Question: P( Overall Rating | Grade, Professor) ?\n",
    "Predict: The Overall Rating given by a student based on his/her Grade and Professor.\n",
    "\n",
    "Organize a Series y that represents what we are predicting.\n",
    "\n",
    "Organize X, a DataFrame with numerical/boolean columns that will help predict y.\n",
    "\n",
    "We can use the reviews_by_grade DataFrame for this. \n",
    "\n",
    "Let's not use the \"Presents Material Clearly\" or the \"Recognizes Student Difficulties\" Reviews yet to help our predictions. Doing such would undermine the effect of a student's Grade and Professor on his/her rating and we wouldn't have a clear answer to our question. "
   ]
  },
  {
   "cell_type": "code",
   "execution_count": 232,
   "metadata": {
    "collapsed": false
   },
   "outputs": [
    {
     "data": {
      "text/plain": [
       "0    3.769\n",
       "1    3.769\n",
       "2    3.769\n",
       "3    2.800\n",
       "4    3.400\n",
       "Name: Overall Rating, dtype: float64"
      ]
     },
     "execution_count": 232,
     "metadata": {},
     "output_type": "execute_result"
    }
   ],
   "source": [
    "#drop nan values\n",
    "reviews_by_grade.dropna(inplace=True)\n",
    "\n",
    "#Set y to the column we want to predict.\n",
    "y = reviews_by_grade['Overall Rating']\n",
    "\n",
    "y.head()"
   ]
  },
  {
   "cell_type": "code",
   "execution_count": 233,
   "metadata": {
    "collapsed": false
   },
   "outputs": [],
   "source": [
    "def test_y(y):\n",
    "    '''\n",
    "    Performs tests on y values. \n",
    "    \n",
    "    Args: \n",
    "        y (pd.Series)\n",
    "    Returns: \n",
    "        None.\n",
    "    '''\n",
    "    assert type(y) == pd.Series\n",
    "    assert type(y.values[0]) == np.float64\n",
    "    assert np.nan not in y.values\n",
    "    assert np.isfinite(y.all()) == True"
   ]
  },
  {
   "cell_type": "markdown",
   "metadata": {},
   "source": [
    "Test the y dependent 'Overall Rating' values. "
   ]
  },
  {
   "cell_type": "code",
   "execution_count": 234,
   "metadata": {
    "collapsed": true
   },
   "outputs": [],
   "source": [
    "test_y(y)"
   ]
  },
  {
   "cell_type": "markdown",
   "metadata": {},
   "source": [
    "Select columns useful for making the prediction."
   ]
  },
  {
   "cell_type": "code",
   "execution_count": 235,
   "metadata": {
    "collapsed": false
   },
   "outputs": [
    {
     "data": {
      "text/html": [
       "<div>\n",
       "<table border=\"1\" class=\"dataframe\">\n",
       "  <thead>\n",
       "    <tr style=\"text-align: right;\">\n",
       "      <th></th>\n",
       "      <th>Grade</th>\n",
       "      <th>prof_id</th>\n",
       "    </tr>\n",
       "  </thead>\n",
       "  <tbody>\n",
       "    <tr>\n",
       "      <th>0</th>\n",
       "      <td>A</td>\n",
       "      <td>2073</td>\n",
       "    </tr>\n",
       "    <tr>\n",
       "      <th>1</th>\n",
       "      <td>A</td>\n",
       "      <td>2073</td>\n",
       "    </tr>\n",
       "    <tr>\n",
       "      <th>2</th>\n",
       "      <td>A</td>\n",
       "      <td>2073</td>\n",
       "    </tr>\n",
       "  </tbody>\n",
       "</table>\n",
       "</div>"
      ],
      "text/plain": [
       "  Grade  prof_id\n",
       "0     A     2073\n",
       "1     A     2073\n",
       "2     A     2073"
      ]
     },
     "execution_count": 235,
     "metadata": {},
     "output_type": "execute_result"
    }
   ],
   "source": [
    "# Create a DataFrame solely from the Grade and prof_id columns of reviews_by_grade\n",
    "X = pd.concat([reviews_by_grade['Grade'], reviews_by_grade['prof_id']], axis=1)\n",
    "X.head(3)"
   ]
  },
  {
   "cell_type": "markdown",
   "metadata": {},
   "source": [
    "The following cell should not be run more than once, else data will be duplicated. \n",
    "Get dummy values for the Grades. "
   ]
  },
  {
   "cell_type": "code",
   "execution_count": 236,
   "metadata": {
    "collapsed": false
   },
   "outputs": [
    {
     "data": {
      "text/html": [
       "<div>\n",
       "<table border=\"1\" class=\"dataframe\">\n",
       "  <thead>\n",
       "    <tr style=\"text-align: right;\">\n",
       "      <th></th>\n",
       "      <th>prof_id</th>\n",
       "      <th>A</th>\n",
       "      <th>B</th>\n",
       "      <th>C</th>\n",
       "      <th>D</th>\n",
       "      <th>F</th>\n",
       "    </tr>\n",
       "  </thead>\n",
       "  <tbody>\n",
       "    <tr>\n",
       "      <th>0</th>\n",
       "      <td>2073</td>\n",
       "      <td>1</td>\n",
       "      <td>0</td>\n",
       "      <td>0</td>\n",
       "      <td>0</td>\n",
       "      <td>0</td>\n",
       "    </tr>\n",
       "    <tr>\n",
       "      <th>1</th>\n",
       "      <td>2073</td>\n",
       "      <td>1</td>\n",
       "      <td>0</td>\n",
       "      <td>0</td>\n",
       "      <td>0</td>\n",
       "      <td>0</td>\n",
       "    </tr>\n",
       "    <tr>\n",
       "      <th>2</th>\n",
       "      <td>2073</td>\n",
       "      <td>1</td>\n",
       "      <td>0</td>\n",
       "      <td>0</td>\n",
       "      <td>0</td>\n",
       "      <td>0</td>\n",
       "    </tr>\n",
       "    <tr>\n",
       "      <th>3</th>\n",
       "      <td>2</td>\n",
       "      <td>0</td>\n",
       "      <td>1</td>\n",
       "      <td>0</td>\n",
       "      <td>0</td>\n",
       "      <td>0</td>\n",
       "    </tr>\n",
       "    <tr>\n",
       "      <th>4</th>\n",
       "      <td>12</td>\n",
       "      <td>0</td>\n",
       "      <td>1</td>\n",
       "      <td>0</td>\n",
       "      <td>0</td>\n",
       "      <td>0</td>\n",
       "    </tr>\n",
       "  </tbody>\n",
       "</table>\n",
       "</div>"
      ],
      "text/plain": [
       "   prof_id  A  B  C  D  F\n",
       "0     2073  1  0  0  0  0\n",
       "1     2073  1  0  0  0  0\n",
       "2     2073  1  0  0  0  0\n",
       "3        2  0  1  0  0  0\n",
       "4       12  0  1  0  0  0"
      ]
     },
     "metadata": {},
     "output_type": "display_data"
    }
   ],
   "source": [
    "# Concat the dummy values of Grade. Drop Columns that may inhibit the prediction.\n",
    "X = pd.concat([X, pd.get_dummies(X['Grade']).dropna()], axis=1)\n",
    "X.drop(['Grade', 'N/A', 'Credit', 'No Credit'], axis=1, inplace=True)\n",
    "display(X.head())"
   ]
  },
  {
   "cell_type": "code",
   "execution_count": 237,
   "metadata": {
    "collapsed": false,
    "scrolled": false
   },
   "outputs": [],
   "source": [
    "def test_X(X, n_columns):\n",
    "    '''\n",
    "    Performs tests on X. \n",
    "    \n",
    "    Args: \n",
    "        X (pd.DataFrame): known values\n",
    "        n_columns (int): number of columns X should have\n",
    "    Returns: \n",
    "        None.\n",
    "    '''\n",
    "    \n",
    "    assert len(X.columns) == n_columns\n",
    "    assert X.isnull().any().any() == False\n",
    "    assert np.isinf(X.any().any()) == False\n",
    "    np.isfinite(X.all())\n",
    "    \n",
    "    #Checking a column for infinite values.\n",
    "    infinites = []\n",
    "\n",
    "    for i in X.A:\n",
    "        if np.isinf(i):\n",
    "            infinites.append(i)\n",
    "\n",
    "    assert len(infinites) == 0"
   ]
  },
  {
   "cell_type": "markdown",
   "metadata": {},
   "source": [
    "Test the X feature pd.DataFrame."
   ]
  },
  {
   "cell_type": "code",
   "execution_count": 238,
   "metadata": {
    "collapsed": false
   },
   "outputs": [],
   "source": [
    "test_X(X, 6)\n",
    "assert np.nan not in X['prof_id'].unique()"
   ]
  },
  {
   "cell_type": "markdown",
   "metadata": {},
   "source": [
    "## Train -- Test -- Split\n",
    "Use sklearn.cross_validation.train_test_split to split your data into a training and test set. Save the resulting data in the variables:\n",
    "\n",
    "* Xtrain \n",
    "* Xtest\n",
    "* ytrain\n",
    "* ytest\n",
    "\n",
    "Ideas:\n",
    "* Don't fill nan prof_id values with the mean. \n",
    "* Fill nan Grade values with the professor's mode.\n",
    "\n",
    "Partitions:\n",
    "* Train:  80% of Dataset\n",
    "* Cross-Validation: 10% of Dataset\n",
    "* Test: 10% of Dataset"
   ]
  },
  {
   "cell_type": "code",
   "execution_count": 239,
   "metadata": {
    "collapsed": false
   },
   "outputs": [
    {
     "name": "stdout",
     "output_type": "stream",
     "text": [
      "Train set shapes:  (48833, 6) (48833,)\n",
      "Test set shapes:  (5426, 6) (5426,)\n"
     ]
    }
   ],
   "source": [
    "Xtrain, Xtest, ytrain, ytest = train_test_split(X, y, test_size=0.10, random_state=0)\n",
    "\n",
    "print('Train set shapes: ', Xtrain.shape, ytrain.shape)\n",
    "print('Test set shapes: ', Xtest.shape, ytest.shape)"
   ]
  },
  {
   "cell_type": "code",
   "execution_count": 240,
   "metadata": {
    "collapsed": false,
    "scrolled": true
   },
   "outputs": [],
   "source": [
    "def test_split_train_test(Xtest, ytest, Xtrain, ytrain):\n",
    "    '''Performs assert tests on the parameters.\n",
    "    \n",
    "       Args: Xtest (pd.DataFrame): Test set to test the Xtrain against\n",
    "             ytest (pd.Series): Test set to test the ytrain against\n",
    "             Xtrain (pd.DataFrame): Train set, trained to a model\n",
    "             ytrain (pd.Series): Train set, trained to a model\n",
    "       Returns: \n",
    "             None.\n",
    "    '''\n",
    "    assert Xtrain.shape[0] == ytrain.shape[0]\n",
    "    assert Xtest.shape[0] == ytest.shape[0]\n",
    "    \n",
    "\n",
    "    assert type(ytrain.values[0]) == np.float64\n",
    "    assert type(ytest.values[0]) == np.float64\n",
    "\n",
    "    assert np.nan not in ytrain.unique() \n",
    "\n",
    "    assert np.isfinite(Xtrain.all().all()) == True\n",
    "    Xtrain = Xtrain.round(2)\n",
    "\n",
    "    assert ytrain.dtype == np.float64\n",
    "    assert np.nan not in ytrain.unique()"
   ]
  },
  {
   "cell_type": "code",
   "execution_count": 241,
   "metadata": {
    "collapsed": true
   },
   "outputs": [],
   "source": [
    "test_split_train_test(Xtest, ytest, Xtrain, ytrain)"
   ]
  },
  {
   "cell_type": "code",
   "execution_count": 242,
   "metadata": {
    "collapsed": false
   },
   "outputs": [
    {
     "data": {
      "text/html": [
       "<div>\n",
       "<table border=\"1\" class=\"dataframe\">\n",
       "  <thead>\n",
       "    <tr style=\"text-align: right;\">\n",
       "      <th></th>\n",
       "      <th>prof_id</th>\n",
       "      <th>A</th>\n",
       "      <th>B</th>\n",
       "      <th>C</th>\n",
       "      <th>D</th>\n",
       "      <th>F</th>\n",
       "    </tr>\n",
       "  </thead>\n",
       "  <tbody>\n",
       "    <tr>\n",
       "      <th>42748</th>\n",
       "      <td>1160</td>\n",
       "      <td>1</td>\n",
       "      <td>0</td>\n",
       "      <td>0</td>\n",
       "      <td>0</td>\n",
       "      <td>0</td>\n",
       "    </tr>\n",
       "    <tr>\n",
       "      <th>30574</th>\n",
       "      <td>1202</td>\n",
       "      <td>0</td>\n",
       "      <td>0</td>\n",
       "      <td>1</td>\n",
       "      <td>0</td>\n",
       "      <td>0</td>\n",
       "    </tr>\n",
       "    <tr>\n",
       "      <th>13119</th>\n",
       "      <td>305</td>\n",
       "      <td>0</td>\n",
       "      <td>1</td>\n",
       "      <td>0</td>\n",
       "      <td>0</td>\n",
       "      <td>0</td>\n",
       "    </tr>\n",
       "    <tr>\n",
       "      <th>20541</th>\n",
       "      <td>377</td>\n",
       "      <td>1</td>\n",
       "      <td>0</td>\n",
       "      <td>0</td>\n",
       "      <td>0</td>\n",
       "      <td>0</td>\n",
       "    </tr>\n",
       "    <tr>\n",
       "      <th>41967</th>\n",
       "      <td>2830</td>\n",
       "      <td>0</td>\n",
       "      <td>0</td>\n",
       "      <td>1</td>\n",
       "      <td>0</td>\n",
       "      <td>0</td>\n",
       "    </tr>\n",
       "  </tbody>\n",
       "</table>\n",
       "</div>"
      ],
      "text/plain": [
       "       prof_id  A  B  C  D  F\n",
       "42748     1160  1  0  0  0  0\n",
       "30574     1202  0  0  1  0  0\n",
       "13119      305  0  1  0  0  0\n",
       "20541      377  1  0  0  0  0\n",
       "41967     2830  0  0  1  0  0"
      ]
     },
     "metadata": {},
     "output_type": "display_data"
    },
    {
     "name": "stdout",
     "output_type": "stream",
     "text": [
      "Xtrain:  None\n",
      "---------------------------------\n"
     ]
    },
    {
     "data": {
      "text/plain": [
       "42748    3.692\n",
       "30574    2.000\n",
       "13119    1.098\n",
       "20541    2.899\n",
       "41967    3.000\n",
       "Name: Overall Rating, dtype: float64"
      ]
     },
     "metadata": {},
     "output_type": "display_data"
    },
    {
     "name": "stdout",
     "output_type": "stream",
     "text": [
      "ytrain:  None\n",
      "---------------------------------\n"
     ]
    },
    {
     "data": {
      "text/html": [
       "<div>\n",
       "<table border=\"1\" class=\"dataframe\">\n",
       "  <thead>\n",
       "    <tr style=\"text-align: right;\">\n",
       "      <th></th>\n",
       "      <th>prof_id</th>\n",
       "      <th>A</th>\n",
       "      <th>B</th>\n",
       "      <th>C</th>\n",
       "      <th>D</th>\n",
       "      <th>F</th>\n",
       "    </tr>\n",
       "  </thead>\n",
       "  <tbody>\n",
       "    <tr>\n",
       "      <th>22842</th>\n",
       "      <td>3493</td>\n",
       "      <td>1</td>\n",
       "      <td>0</td>\n",
       "      <td>0</td>\n",
       "      <td>0</td>\n",
       "      <td>0</td>\n",
       "    </tr>\n",
       "    <tr>\n",
       "      <th>9547</th>\n",
       "      <td>2619</td>\n",
       "      <td>1</td>\n",
       "      <td>0</td>\n",
       "      <td>0</td>\n",
       "      <td>0</td>\n",
       "      <td>0</td>\n",
       "    </tr>\n",
       "    <tr>\n",
       "      <th>37966</th>\n",
       "      <td>3032</td>\n",
       "      <td>0</td>\n",
       "      <td>1</td>\n",
       "      <td>0</td>\n",
       "      <td>0</td>\n",
       "      <td>0</td>\n",
       "    </tr>\n",
       "    <tr>\n",
       "      <th>17252</th>\n",
       "      <td>1078</td>\n",
       "      <td>0</td>\n",
       "      <td>0</td>\n",
       "      <td>0</td>\n",
       "      <td>0</td>\n",
       "      <td>0</td>\n",
       "    </tr>\n",
       "    <tr>\n",
       "      <th>44834</th>\n",
       "      <td>669</td>\n",
       "      <td>0</td>\n",
       "      <td>0</td>\n",
       "      <td>0</td>\n",
       "      <td>1</td>\n",
       "      <td>0</td>\n",
       "    </tr>\n",
       "  </tbody>\n",
       "</table>\n",
       "</div>"
      ],
      "text/plain": [
       "       prof_id  A  B  C  D  F\n",
       "22842     3493  1  0  0  0  0\n",
       "9547      2619  1  0  0  0  0\n",
       "37966     3032  0  1  0  0  0\n",
       "17252     1078  0  0  0  0  0\n",
       "44834      669  0  0  0  1  0"
      ]
     },
     "metadata": {},
     "output_type": "display_data"
    },
    {
     "name": "stdout",
     "output_type": "stream",
     "text": [
      "Xtest:  None\n",
      "---------------------------------\n"
     ]
    },
    {
     "data": {
      "text/plain": [
       "22842    0.667\n",
       "9547     4.000\n",
       "37966    2.375\n",
       "17252    1.048\n",
       "44834    0.000\n",
       "Name: Overall Rating, dtype: float64"
      ]
     },
     "metadata": {},
     "output_type": "display_data"
    },
    {
     "name": "stdout",
     "output_type": "stream",
     "text": [
      "ytest:  None\n"
     ]
    }
   ],
   "source": [
    "print('Xtrain: ', display(Xtrain.head()))\n",
    "print('---------------------------------')\n",
    "print('ytrain: ', display(ytrain[0:5]))\n",
    "print('---------------------------------')\n",
    "print('Xtest: ', display(Xtest.head()))\n",
    "print('---------------------------------')\n",
    "print('ytest: ', display(ytest[0:5]))"
   ]
  },
  {
   "cell_type": "markdown",
   "metadata": {},
   "source": [
    "# Linear Regression\n",
    "\n",
    "#### Why Linear Regression? \n",
    "Linear Regression alows us to pridict a values that are continuous, unlike Random Forests, and other models that predict discrete values.\n",
    "\n",
    "* __Construct a model__\n",
    "* __Fit the model__ to the data\n",
    "* __Predict__\n",
    "* Rather than assessing the score, let's __compute the $r^2$ values__ to find the difference between predicted y-values and y-test values.\n",
    "\n"
   ]
  },
  {
   "cell_type": "markdown",
   "metadata": {},
   "source": [
    "## Contruct -- Fit -- Predict "
   ]
  },
  {
   "cell_type": "code",
   "execution_count": 243,
   "metadata": {
    "collapsed": false
   },
   "outputs": [
    {
     "data": {
      "text/plain": [
       "LinearRegression(copy_X=True, fit_intercept=True, n_jobs=1, normalize=False)"
      ]
     },
     "execution_count": 243,
     "metadata": {},
     "output_type": "execute_result"
    }
   ],
   "source": [
    "# Instantiate a model\n",
    "model_lr = LinearRegression()\n",
    "\n",
    "#Fit the model to the Training Set\n",
    "model_lr.fit(Xtrain, ytrain)"
   ]
  },
  {
   "cell_type": "code",
   "execution_count": 244,
   "metadata": {
    "collapsed": false
   },
   "outputs": [
    {
     "data": {
      "text/plain": [
       "array([ 3.42541566,  3.38682214,  2.80973874, ...,  2.76792172,\n",
       "        2.7990085 ,  2.08468184])"
      ]
     },
     "execution_count": 244,
     "metadata": {},
     "output_type": "execute_result"
    }
   ],
   "source": [
    "prediction_lr = model_lr.predict(Xtest)\n",
    "prediction_lr"
   ]
  },
  {
   "cell_type": "code",
   "execution_count": 245,
   "metadata": {
    "collapsed": false
   },
   "outputs": [
    {
     "data": {
      "text/plain": [
       "-1.1325352055591069"
      ]
     },
     "execution_count": 245,
     "metadata": {},
     "output_type": "execute_result"
    }
   ],
   "source": [
    "r2_score(prediction_lr, ytest)"
   ]
  },
  {
   "cell_type": "markdown",
   "metadata": {},
   "source": [
    "-1.133 $r^2$ Score is a little bleak. This suggests that the linear regression is not a very solid fit. Continuous prediction values are not supported with the sklearn.metrix confusion matrix feature. \n",
    "Let's add Sentiment Analysis to see if we can improve the accuracy."
   ]
  },
  {
   "cell_type": "markdown",
   "metadata": {},
   "source": [
    "# Add Sentiment Analysis"
   ]
  },
  {
   "cell_type": "code",
   "execution_count": 246,
   "metadata": {
    "collapsed": false
   },
   "outputs": [
    {
     "data": {
      "text/plain": [
       "(0.17954545454545454, 0.5446969696969698)"
      ]
     },
     "execution_count": 246,
     "metadata": {},
     "output_type": "execute_result"
    }
   ],
   "source": [
    "def process_review(review_text): \n",
    "    review = tb(review_text)\n",
    "    sentiment = review.sentiment\n",
    "    return [sentiment.polarity, sentiment.subjectivity]\n",
    "\n",
    "p, s = process_review(reviews_by_grade['Review'][0])\n",
    "p, s"
   ]
  },
  {
   "cell_type": "markdown",
   "metadata": {},
   "source": [
    "Tack on the sentiment analysis in two columns onto the reviews_by_grade DataFrame:\n",
    "* Polarity: [-1, 1] representing how negative or positive a review is.\n",
    "* Subjectivity [0, 1] representing how subjective a review is."
   ]
  },
  {
   "cell_type": "markdown",
   "metadata": {},
   "source": [
    "_This code takes a minute to run._"
   ]
  },
  {
   "cell_type": "code",
   "execution_count": 278,
   "metadata": {
    "collapsed": false
   },
   "outputs": [
    {
     "data": {
      "text/html": [
       "<div>\n",
       "<table border=\"1\" class=\"dataframe\">\n",
       "  <thead>\n",
       "    <tr style=\"text-align: right;\">\n",
       "      <th></th>\n",
       "      <th>Course</th>\n",
       "      <th>Grade</th>\n",
       "      <th>Overall Rating</th>\n",
       "      <th>Presents Material Clearly</th>\n",
       "      <th>Recognizes Student Difficulties</th>\n",
       "      <th>Reporting Evaluations</th>\n",
       "      <th>Review</th>\n",
       "      <th>Year</th>\n",
       "      <th>prof_id</th>\n",
       "      <th>review_id</th>\n",
       "      <th>Sentiment</th>\n",
       "      <th>Polarity</th>\n",
       "      <th>Subjectivity</th>\n",
       "    </tr>\n",
       "  </thead>\n",
       "  <tbody>\n",
       "    <tr>\n",
       "      <th>0</th>\n",
       "      <td>CHEM 124</td>\n",
       "      <td>A</td>\n",
       "      <td>3.769</td>\n",
       "      <td>3.769</td>\n",
       "      <td>3.692</td>\n",
       "      <td>13</td>\n",
       "      <td>To do well in Abel's class, the key is practic...</td>\n",
       "      <td>Freshman</td>\n",
       "      <td>2073</td>\n",
       "      <td>34359</td>\n",
       "      <td>[0.17954545454545454, 0.5446969696969698]</td>\n",
       "      <td>0.179545</td>\n",
       "      <td>0.544697</td>\n",
       "    </tr>\n",
       "  </tbody>\n",
       "</table>\n",
       "</div>"
      ],
      "text/plain": [
       "     Course Grade  Overall Rating  Presents Material Clearly  \\\n",
       "0  CHEM 124     A           3.769                      3.769   \n",
       "\n",
       "   Recognizes Student Difficulties  Reporting Evaluations  \\\n",
       "0                            3.692                     13   \n",
       "\n",
       "                                              Review      Year  prof_id  \\\n",
       "0  To do well in Abel's class, the key is practic...  Freshman     2073   \n",
       "\n",
       "   review_id                                  Sentiment  Polarity  \\\n",
       "0      34359  [0.17954545454545454, 0.5446969696969698]  0.179545   \n",
       "\n",
       "   Subjectivity  \n",
       "0      0.544697  "
      ]
     },
     "metadata": {},
     "output_type": "display_data"
    }
   ],
   "source": [
    "reviews_by_grade['Sentiment'] = reviews_by_grade['Review'].apply(process_review)\n",
    "reviews_by_grade['Polarity'] = reviews_by_grade['Sentiment'].map(lambda x: x[0])\n",
    "reviews_by_grade['Subjectivity'] = reviews_by_grade['Sentiment'].map(lambda x: x[1])\n",
    "display(reviews_by_grade.head(1))"
   ]
  },
  {
   "cell_type": "code",
   "execution_count": 279,
   "metadata": {
    "collapsed": false
   },
   "outputs": [
    {
     "data": {
      "text/html": [
       "<div>\n",
       "<table border=\"1\" class=\"dataframe\">\n",
       "  <thead>\n",
       "    <tr style=\"text-align: right;\">\n",
       "      <th></th>\n",
       "      <th>prof_id</th>\n",
       "      <th>Polarity</th>\n",
       "      <th>A</th>\n",
       "      <th>B</th>\n",
       "      <th>C</th>\n",
       "      <th>D</th>\n",
       "      <th>F</th>\n",
       "    </tr>\n",
       "  </thead>\n",
       "  <tbody>\n",
       "    <tr>\n",
       "      <th>0</th>\n",
       "      <td>2073</td>\n",
       "      <td>0.179545</td>\n",
       "      <td>1</td>\n",
       "      <td>0</td>\n",
       "      <td>0</td>\n",
       "      <td>0</td>\n",
       "      <td>0</td>\n",
       "    </tr>\n",
       "    <tr>\n",
       "      <th>1</th>\n",
       "      <td>2073</td>\n",
       "      <td>0.437500</td>\n",
       "      <td>1</td>\n",
       "      <td>0</td>\n",
       "      <td>0</td>\n",
       "      <td>0</td>\n",
       "      <td>0</td>\n",
       "    </tr>\n",
       "    <tr>\n",
       "      <th>2</th>\n",
       "      <td>2073</td>\n",
       "      <td>0.366667</td>\n",
       "      <td>1</td>\n",
       "      <td>0</td>\n",
       "      <td>0</td>\n",
       "      <td>0</td>\n",
       "      <td>0</td>\n",
       "    </tr>\n",
       "    <tr>\n",
       "      <th>3</th>\n",
       "      <td>2</td>\n",
       "      <td>0.107143</td>\n",
       "      <td>0</td>\n",
       "      <td>1</td>\n",
       "      <td>0</td>\n",
       "      <td>0</td>\n",
       "      <td>0</td>\n",
       "    </tr>\n",
       "    <tr>\n",
       "      <th>4</th>\n",
       "      <td>12</td>\n",
       "      <td>-0.086914</td>\n",
       "      <td>0</td>\n",
       "      <td>1</td>\n",
       "      <td>0</td>\n",
       "      <td>0</td>\n",
       "      <td>0</td>\n",
       "    </tr>\n",
       "  </tbody>\n",
       "</table>\n",
       "</div>"
      ],
      "text/plain": [
       "   prof_id  Polarity  A  B  C  D  F\n",
       "0     2073  0.179545  1  0  0  0  0\n",
       "1     2073  0.437500  1  0  0  0  0\n",
       "2     2073  0.366667  1  0  0  0  0\n",
       "3        2  0.107143  0  1  0  0  0\n",
       "4       12 -0.086914  0  1  0  0  0"
      ]
     },
     "execution_count": 279,
     "metadata": {},
     "output_type": "execute_result"
    }
   ],
   "source": [
    "X = pd.concat([reviews_by_grade['Grade'], reviews_by_grade['prof_id'], \\\n",
    "              reviews_by_grade['Polarity'], reviews_by_grade['Subjectivity']], axis=1)\n",
    "X = pd.concat([X, pd.get_dummies(X['Grade']).dropna()], axis=1)\n",
    "X.drop(['Grade', 'N/A', 'Credit', 'No Credit', 'Subjectivity'], axis=1, inplace=True)\n",
    "X.head()"
   ]
  },
  {
   "cell_type": "code",
   "execution_count": 261,
   "metadata": {
    "collapsed": false
   },
   "outputs": [],
   "source": [
    "def save_to_json(path, json_str):\n",
    "    '''\n",
    "    Saves a DataFrame JSON string to a file.\n",
    "    Args: path (str): address\n",
    "    Returns: None.\n",
    "    '''\n",
    "    with open(path, 'w') as outfile:\n",
    "        json.dump(json_str, outfile)\n",
    "    \n",
    "# It's a good idea to save this DataFrame      \n",
    "reviews_by_sentiment_json = reviews_by_grade.reset_index().to_json(orient='index') \n",
    "save_to_json('/data/primitiveDataType/reviews_by_grades.json', reviews_by_sentiment_json)"
   ]
  },
  {
   "cell_type": "markdown",
   "metadata": {},
   "source": [
    "## Test our X and y variables. "
   ]
  },
  {
   "cell_type": "code",
   "execution_count": 287,
   "metadata": {
    "collapsed": false
   },
   "outputs": [],
   "source": [
    "test_X(X, 7)\n",
    "test_y(y)"
   ]
  },
  {
   "cell_type": "markdown",
   "metadata": {},
   "source": [
    "## Test -- Train -- Split"
   ]
  },
  {
   "cell_type": "code",
   "execution_count": 281,
   "metadata": {
    "collapsed": false
   },
   "outputs": [
    {
     "name": "stdout",
     "output_type": "stream",
     "text": [
      "Train set shapes:  (48833, 7) (48833,)\n",
      "Test set shapes:  (5426, 7) (5426,)\n"
     ]
    }
   ],
   "source": [
    "Xtrain, Xtest, ytrain, ytest = train_test_split(X, y, test_size=0.10, random_state=0)\n",
    "\n",
    "print('Train set shapes: ', Xtrain.shape, ytrain.shape)\n",
    "print('Test set shapes: ', Xtest.shape, ytest.shape)\n",
    "\n",
    "#Call testing functions\n",
    "test_X(X, 7)\n",
    "test_y(y)"
   ]
  },
  {
   "cell_type": "markdown",
   "metadata": {},
   "source": [
    "## Test the test-train-split values"
   ]
  },
  {
   "cell_type": "code",
   "execution_count": 282,
   "metadata": {
    "collapsed": false
   },
   "outputs": [],
   "source": [
    "test_split_train_test(Xtest, ytest, Xtrain, ytrain)"
   ]
  },
  {
   "cell_type": "markdown",
   "metadata": {},
   "source": [
    "## Contruct -- Fit -- Predict "
   ]
  },
  {
   "cell_type": "code",
   "execution_count": 283,
   "metadata": {
    "collapsed": false
   },
   "outputs": [
    {
     "data": {
      "text/plain": [
       "LinearRegression(copy_X=True, fit_intercept=True, n_jobs=1, normalize=False)"
      ]
     },
     "execution_count": 283,
     "metadata": {},
     "output_type": "execute_result"
    }
   ],
   "source": [
    "# Instantiate a model\n",
    "model_lr = LinearRegression()\n",
    "\n",
    "#Fit the model to the Training Set\n",
    "model_lr.fit(Xtrain, ytrain)"
   ]
  },
  {
   "cell_type": "code",
   "execution_count": 284,
   "metadata": {
    "collapsed": false
   },
   "outputs": [
    {
     "data": {
      "text/plain": [
       "array([ 3.34117786,  3.35005298,  2.40227555, ...,  2.72610393,\n",
       "        2.87119226,  2.25752049])"
      ]
     },
     "execution_count": 284,
     "metadata": {},
     "output_type": "execute_result"
    }
   ],
   "source": [
    "prediction_lr = model_lr.predict(Xtest)\n",
    "prediction_lr"
   ]
  },
  {
   "cell_type": "markdown",
   "metadata": {},
   "source": [
    "## $r^2$ Score"
   ]
  },
  {
   "cell_type": "code",
   "execution_count": 285,
   "metadata": {
    "collapsed": false
   },
   "outputs": [
    {
     "data": {
      "text/plain": [
       "-0.44454273123957933"
      ]
     },
     "execution_count": 285,
     "metadata": {},
     "output_type": "execute_result"
    }
   ],
   "source": [
    "r2_score(prediction_lr, ytest)"
   ]
  },
  {
   "cell_type": "markdown",
   "metadata": {},
   "source": [
    "## Compute 95% and 80% Percentiles of $r^2$"
   ]
  },
  {
   "cell_type": "code",
   "execution_count": 275,
   "metadata": {
    "collapsed": true
   },
   "outputs": [],
   "source": [
    "def compute_percentile(q1, q3): \n",
    "    '''\n",
    "    Computes + Plots the values of the percentiles for the ytest \n",
    "    subtracted from prediction_lr. \n",
    "    \n",
    "    Args: q1 (float): percentile\n",
    "          q3 (float): percentile\n",
    "    Returns: \n",
    "        None:\n",
    "    '''\n",
    "    \n",
    "    difference = prediction_lr - ytest\n",
    "    percentile = np.percentile(difference, (q1, q3))\n",
    "    print('Percentiles: ', (percentile[0], percentile[1]))\n",
    "    \n",
    "    f = plt.figure()\n",
    "    f.set_size_inches(10, 10, forward=True)\n",
    "    sns.distplot(prediction_lr - ytest)\n",
    "\n",
    "    plt.xlabel('Difference = Linear Regression Prediction - ytest', fontsize='20')\n",
    "    plt.ylabel('Occurrences', fontsize='20')\n",
    "    plt.title('How Far Off is the Model from the Test Values?', fontsize='20')\n",
    "#     eightieth_percentile = [-0.926, 1.095]\n",
    "#     ninety_five_percentile = [-1.482, 1.720]\n",
    "    \n",
    "    plt.vlines(percentile, 0, .6, color='b',linestyles='solid')\n",
    "    plt.show()"
   ]
  },
  {
   "cell_type": "code",
   "execution_count": 277,
   "metadata": {
    "collapsed": false
   },
   "outputs": [
    {
     "name": "stdout",
     "output_type": "stream",
     "text": [
      "Percentiles:  (-0.92572474517114789, 1.0954280847792282)\n"
     ]
    },
    {
     "data": {
      "image/png": "[encoded data removed]",
      "text/plain": [
       "<matplotlib.figure.Figure at 0x7f55fae7e978>"
      ]
     },
     "metadata": {},
     "output_type": "display_data"
    }
   ],
   "source": [
    "interact(compute_percentile, q1=(0, 15, .5), q3=(85, 100, .5), __manual=True);"
   ]
  },
  {
   "cell_type": "markdown",
   "metadata": {},
   "source": [
    "# Dashed Black Lines = nth Percentile\n"
   ]
  },
  {
   "cell_type": "markdown",
   "metadata": {},
   "source": [
    "# Results\n",
    "\n",
    "### 80th Percentile: Set q1 to 10 and q3 to 90\n",
    "The model's prediction is within 1.0 of the test values at the 80th percentile. Differences between the predicted and test values range from: [-0.926, 1.096]\n",
    "\n",
    "### 95th Percentile: Set q1 to 2.5 and q3 to 97.5\n",
    "The 95th percentile is shown by the vertical lines. Differences between the predicted and test values range from: [-1.482, 1.720]\n",
    "\n",
    "This -0.448 $r^2$ score that includes Sentiment Analysis is huge an improvement of -1.133 $r^2$  without sentiment analysis.\n",
    "\n",
    "If we were to completely guess a professor's Overall Rating without benefitting from any of these features and scikitlearn's Linear Regression model, we would have approximately a 20% chance of guessing accurately. The overall rating is in the ranges of {A: 4, B: 3, C: 2, D: 1, F: 0} \n",
    "\n",
    "# Conclusions\n",
    "\n",
    "The Linear Regression model which offers -0.448 $r^2$ score is is better than the 20% accuracy alternative. \n",
    "\n",
    "## This is because you're about 80% confident to be within approximately 1 level of the correct Overall Rating if you use the Linear Regression Model. \n",
    "\n",
    "This gives us reason to believe that Review Text Sentiment Analysis amongst a Reviewer's Grade, and the Professor ID help us make a less bad, perhaps even a somewhat good, prediction of the Professor's 'Overall Rating' by reviewers on Polyratings.com."
   ]
  }
 ],
 "metadata": {
  "kernelspec": {
   "display_name": "Python 3",
   "language": "python",
   "name": "python3"
  },
  "language_info": {
   "codemirror_mode": {
    "name": "ipython",
    "version": 3
   },
   "file_extension": ".py",
   "mimetype": "text/x-python",
   "name": "python",
   "nbconvert_exporter": "python",
   "pygments_lexer": "ipython3",
   "version": "3.4.3"
  }
 },
 "nbformat": 4,
 "nbformat_minor": 0
}
